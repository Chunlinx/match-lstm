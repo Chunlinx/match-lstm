{
 "cells": [
  {
   "cell_type": "code",
   "execution_count": 1,
   "metadata": {
    "collapsed": true
   },
   "outputs": [],
   "source": [
    "import tensorflow as tf\n",
    "import numpy as np"
   ]
  },
  {
   "cell_type": "code",
   "execution_count": 2,
   "metadata": {
    "collapsed": true
   },
   "outputs": [],
   "source": [
    "from lib.vectorize import vectorize\n",
    "ddict = vectorize(sent_size=50)\n",
    "vocab_size = len(list(ddict['word2index']))"
   ]
  },
  {
   "cell_type": "code",
   "execution_count": 3,
   "metadata": {
    "collapsed": true
   },
   "outputs": [],
   "source": [
    "window_size = 4\n",
    "sentence_size = 50\n",
    "embedding_size = 300\n",
    "batch_size = 8\n",
    "num_class = 3"
   ]
  },
  {
   "cell_type": "code",
   "execution_count": 4,
   "metadata": {
    "collapsed": true
   },
   "outputs": [],
   "source": [
    "from lib.data_utils import unpack_data\n",
    "train_data = ddict['train_data']"
   ]
  },
  {
   "cell_type": "markdown",
   "metadata": {},
   "source": [
    "## Class"
   ]
  },
  {
   "cell_type": "code",
   "execution_count": 5,
   "metadata": {
    "collapsed": true
   },
   "outputs": [],
   "source": [
    "import model"
   ]
  },
  {
   "cell_type": "code",
   "execution_count": 6,
   "metadata": {
    "collapsed": true
   },
   "outputs": [],
   "source": [
    "mlstm = model.mLSTM(sentence_size, num_class, embedding_size, batch_size, vocab_size)"
   ]
  },
  {
   "cell_type": "code",
   "execution_count": 7,
   "metadata": {
    "collapsed": true
   },
   "outputs": [],
   "source": [
    "sess = tf.InteractiveSession()\n",
    "sess.run(tf.global_variables_initializer())"
   ]
  },
  {
   "cell_type": "markdown",
   "metadata": {},
   "source": [
    "## Training"
   ]
  },
  {
   "cell_type": "code",
   "execution_count": null,
   "metadata": {
    "collapsed": true
   },
   "outputs": [],
   "source": [
    "nepochs = 10"
   ]
  },
  {
   "cell_type": "code",
   "execution_count": null,
   "metadata": {},
   "outputs": [
    {
     "name": "stdout",
     "output_type": "stream",
     "text": [
      "[j=0; i=1000] : 8.88230046393759\n",
      "#exceptions :  3\n",
      "[j=0; i=2000] : 8.886335969090581\n",
      "#exceptions :  1\n",
      "[j=0; i=3000] : 8.881488199339229\n",
      "#exceptions :  3\n",
      "[j=0; i=4000] : 8.903770933628083\n",
      "#exceptions :  0\n",
      "[j=0; i=5000] : 8.918907707540233\n",
      "#exceptions :  5\n",
      "[j=0; i=6000] : 8.884252774715424\n",
      "#exceptions :  0\n",
      "[j=0; i=7000] : 8.880057564258575\n",
      "#exceptions :  0\n",
      "[j=0; i=8000] : 8.90511803817749\n",
      "#exceptions :  0\n",
      "[j=0; i=9000] : 8.866312162399293\n",
      "#exceptions :  0\n",
      "[j=0; i=10000] : 8.901687920332913\n",
      "#exceptions :  4\n",
      "[j=0; i=11000] : 8.845545220542121\n",
      "#exceptions :  1\n",
      "[j=0; i=12000] : 8.887150779247284\n",
      "#exceptions :  0\n",
      "[j=0; i=13000] : 8.872038922391019\n",
      "#exceptions :  1\n",
      "[j=0; i=14000] : 8.911483789946104\n",
      "#exceptions :  1\n",
      "[j=0; i=15000] : 8.8851415848732\n",
      "#exceptions :  0\n",
      "[j=0; i=16000] : 8.93042598772049\n",
      "#exceptions :  0\n",
      "[j=0; i=17000] : 8.903108899069645\n",
      "#exceptions :  3\n",
      "[j=0; i=18000] : 8.87885841688475\n",
      "#exceptions :  1\n",
      "[j=0; i=19000] : 8.876974234490122\n",
      "#exceptions :  3\n",
      "[j=0; i=20000] : 8.898984830856323\n",
      "#exceptions :  0\n",
      "[j=0; i=21000] : 8.86848732805252\n",
      "#exceptions :  0\n",
      "[j=0; i=22000] : 8.937969470334986\n",
      "#exceptions :  3\n",
      "[j=0; i=23000] : 8.866435606002808\n",
      "#exceptions :  0\n",
      "[j=0; i=24000] : 8.903267293363005\n",
      "#exceptions :  1\n",
      "[j=0; i=25000] : 8.856219120808431\n",
      "#exceptions :  1\n",
      "[j=0; i=26000] : 8.903724926578207\n",
      "#exceptions :  6\n",
      "[j=0; i=27000] : 8.857273890807464\n",
      "#exceptions :  1\n",
      "[j=0; i=28000] : 8.88807834482193\n",
      "#exceptions :  0\n",
      "[j=0; i=29000] : 8.873372577667237\n",
      "#exceptions :  0\n",
      "[j=0; i=30000] : 8.90621319523564\n",
      "#exceptions :  1\n",
      "[j=0; i=31000] : 8.898184566020966\n",
      "#exceptions :  0\n",
      "[j=0; i=32000] : 8.892930349510515\n",
      "#exceptions :  2\n",
      "[j=0; i=33000] : 8.855993202891216\n",
      "#exceptions :  4\n",
      "[j=0; i=34000] : 8.871585047721863\n",
      "#exceptions :  0\n",
      "[j=0; i=35000] : 8.896455876096217\n",
      "#exceptions :  2\n",
      "[j=0; i=36000] : 8.887926886220255\n",
      "#exceptions :  2\n"
     ]
    }
   ],
   "source": [
    "except_cnt = 0\n",
    "for j in range(nepochs):\n",
    "    avg_loss = 0\n",
    "    for i in range(len(train_data)//batch_size):\n",
    "        try:\n",
    "            # fetch data\n",
    "            data = unpack_data(train_data[i*batch_size : (i+1)*batch_size], num_class=3)\n",
    "            loss_v = sess.run(mlstm.loss, feed_dict= {\n",
    "                mlstm.premises : np.array(data[0]),\n",
    "                mlstm.hypotheses : np.array(data[1]),\n",
    "                mlstm.labels : np.array(data[3])\n",
    "            })\n",
    "            avg_loss += loss_v\n",
    "        except:\n",
    "            except_cnt += 1\n",
    "\n",
    "        if i%1000 == 0 and i:\n",
    "            print('[j={}; i={}] : {}'.format(j, i, avg_loss/(1000-except_cnt)))\n",
    "            print('#exceptions : ', except_cnt)\n",
    "            avg_loss = 0\n",
    "            except_cnt = 0"
   ]
  },
  {
   "cell_type": "code",
   "execution_count": null,
   "metadata": {
    "collapsed": true
   },
   "outputs": [],
   "source": []
  },
  {
   "cell_type": "code",
   "execution_count": null,
   "metadata": {
    "collapsed": true
   },
   "outputs": [],
   "source": []
  },
  {
   "cell_type": "code",
   "execution_count": null,
   "metadata": {
    "collapsed": true
   },
   "outputs": [],
   "source": []
  },
  {
   "cell_type": "code",
   "execution_count": null,
   "metadata": {
    "collapsed": true
   },
   "outputs": [],
   "source": []
  },
  {
   "cell_type": "code",
   "execution_count": null,
   "metadata": {
    "collapsed": true
   },
   "outputs": [],
   "source": []
  },
  {
   "cell_type": "code",
   "execution_count": null,
   "metadata": {
    "collapsed": true
   },
   "outputs": [],
   "source": []
  }
 ],
 "metadata": {
  "kernelspec": {
   "display_name": "tf",
   "language": "python",
   "name": "tf"
  },
  "language_info": {
   "codemirror_mode": {
    "name": "ipython",
    "version": 3
   },
   "file_extension": ".py",
   "mimetype": "text/x-python",
   "name": "python",
   "nbconvert_exporter": "python",
   "pygments_lexer": "ipython3",
   "version": "3.5.2"
  }
 },
 "nbformat": 4,
 "nbformat_minor": 2
}
